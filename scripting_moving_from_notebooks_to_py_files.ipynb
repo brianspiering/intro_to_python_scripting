{
 "cells": [
  {
   "cell_type": "markdown",
   "metadata": {
    "slideshow": {
     "slide_type": "skip"
    },
    "toc": true
   },
   "source": [
    "<h1>Table of Contents<span class=\"tocSkip\"></span></h1>\n",
    "<div class=\"toc\"><ul class=\"toc-item\"><li><span><a href=\"#Scripting:-Beyond-Notebooks\" data-toc-modified-id=\"Scripting:-Beyond-Notebooks-1\">Scripting: Beyond Notebooks</a></span></li><li><span><a href=\"#Learning-Outcomes\" data-toc-modified-id=\"Learning-Outcomes-2\">Learning Outcomes</a></span></li><li><span><a href=\"#Why-Notebooks-Are-Limiting?\" data-toc-modified-id=\"Why-Notebooks-Are-Limiting?-3\">Why Notebooks Are Limiting?</a></span></li><li><span><a href=\"#2-styles-of-running-Python\" data-toc-modified-id=\"2-styles-of-running-Python-4\">2 styles of running Python</a></span></li><li><span><a href=\"#Read-Eval-Print-loop-(REPL)\" data-toc-modified-id=\"Read-Eval-Print-loop-(REPL)-5\">Read Eval Print loop (REPL)</a></span></li><li><span><a href=\"#Pros-of-Interactive-Style\" data-toc-modified-id=\"Pros-of-Interactive-Style-6\">Pros of Interactive Style</a></span></li><li><span><a href=\"#Cons-of-Interactive-Style\" data-toc-modified-id=\"Cons-of-Interactive-Style-7\">Cons of Interactive Style</a></span></li><li><span><a href=\"#Script-Style\" data-toc-modified-id=\"Script-Style-8\">Script Style</a></span></li><li><span><a href=\"#2-Types-of-Text-Editors:-CLI-&amp;-GUI\" data-toc-modified-id=\"2-Types-of-Text-Editors:-CLI-&amp;-GUI-9\">2 Types of Text Editors: CLI &amp; GUI</a></span></li><li><span><a href=\"#GUI-style-Text-Editors\" data-toc-modified-id=\"GUI-style-Text-Editors-10\">GUI-style Text Editors</a></span></li><li><span><a href=\"#Sublime-Text-3\" data-toc-modified-id=\"Sublime-Text-3-11\">Sublime Text 3</a></span></li><li><span><a href=\"#What-about-IDE?\" data-toc-modified-id=\"What-about-IDE?-12\">What about IDE?</a></span></li><li><span><a href=\"#Do-I-need-to-use-an-IDE?\" data-toc-modified-id=\"Do-I-need-to-use-an-IDE?-13\">Do I need to use an IDE?</a></span></li><li><span><a href=\"#-Let's-make-a-script\" data-toc-modified-id=\"-Let's-make-a-script-14\"> Let's make a script</a></span></li><li><span><a href=\"#Let's-checkout-a-more-complex-script\" data-toc-modified-id=\"Let's-checkout-a-more-complex-script-15\">Let's checkout a more complex script</a></span></li><li><span><a href=\"#What-is-__name__?\" data-toc-modified-id=\"What-is-__name__?-16\">What is <code>__name__</code>?</a></span></li><li><span><a href=\"#Let's-make-a-little-script\" data-toc-modified-id=\"Let's-make-a-little-script-17\">Let's make a little script</a></span></li><li><span><a href=\"#Pros-of-Script-Style\" data-toc-modified-id=\"Pros-of-Script-Style-18\">Pros of Script Style</a></span></li><li><span><a href=\"#Cons-of-Script-Style\" data-toc-modified-id=\"Cons-of-Script-Style-19\">Cons of Script Style</a></span></li><li><span><a href=\"#Takeaways\" data-toc-modified-id=\"Takeaways-20\">Takeaways</a></span></li><li><span><a href=\"#Bonus-Material\" data-toc-modified-id=\"Bonus-Material-21\">Bonus Material</a></span></li><li><span><a href=\"#Conversion-from-Jupyter-Notebook-to-.py\" data-toc-modified-id=\"Conversion-from-Jupyter-Notebook-to-.py-22\">Conversion from Jupyter Notebook to <code>.py</code></a></span></li><li><span><a href=\"#nano\" data-toc-modified-id=\"nano-23\"><code>nano</code></a></span></li><li><span><a href=\"#Further-Study\" data-toc-modified-id=\"Further-Study-24\">Further Study</a></span></li></ul></div>"
   ]
  },
  {
   "cell_type": "markdown",
   "metadata": {
    "slideshow": {
     "slide_type": "slide"
    }
   },
   "source": [
    "<center><h2>Scripting: Beyond Notebooks</h2></center>\n"
   ]
  },
  {
   "cell_type": "markdown",
   "metadata": {
    "slideshow": {
     "slide_type": "slide"
    }
   },
   "source": [
    "<center><h2>Learning Outcomes</h2></center>\n",
    "\n",
    "__By the end of this session, you should be able to__:\n",
    "\n",
    "- Write and run Python scripts outside and inside of Jupyter Notebooks.\n",
    "- Explain your own words the pros and cons of scripting compared to interactive coding."
   ]
  },
  {
   "cell_type": "markdown",
   "metadata": {
    "slideshow": {
     "slide_type": "slide"
    }
   },
   "source": [
    "Why Notebooks Are Limiting?\n",
    "-----"
   ]
  },
  {
   "cell_type": "markdown",
   "metadata": {
    "slideshow": {
     "slide_type": "fragment"
    }
   },
   "source": [
    "1. State\n",
    "1. Hard to run at the command line\n",
    "1. Not straightforward to manage complex code / systems"
   ]
  },
  {
   "cell_type": "markdown",
   "metadata": {
    "slideshow": {
     "slide_type": "slide"
    }
   },
   "source": [
    "2 styles of running Python\n",
    "----\n",
    "\n",
    "1. Interactive style\n",
    "1. Script style"
   ]
  },
  {
   "cell_type": "markdown",
   "metadata": {
    "slideshow": {
     "slide_type": "slide"
    }
   },
   "source": [
    "Read Eval Print loop (REPL)\n",
    "-----\n",
    "\n",
    "REPL using the language shell.\n",
    "\n",
    "`$ python `  \n",
    "or much better:  \n",
    "`$ ipython `  \n",
    "\n",
    "Jupyter Notebook is a GUI wrapper for the IPython shell.\n",
    "\n",
    "(Jupyter Notebook does much more, including supporting other languages.)"
   ]
  },
  {
   "cell_type": "markdown",
   "metadata": {
    "slideshow": {
     "slide_type": "slide"
    }
   },
   "source": [
    "Pros of Interactive Style\n",
    "----\n",
    "\n",
    "1. Get immediate results:\n",
    "    - Ideal for beginners to get feedback\n",
    "    - Good for everyone to try out code\n"
   ]
  },
  {
   "cell_type": "markdown",
   "metadata": {
    "slideshow": {
     "slide_type": "slide"
    }
   },
   "source": [
    "Cons of Interactive Style\n",
    "---- \n",
    "\n",
    "1. Hard to edit code\n",
    "1. Hard to manage complexity\n",
    "1. Hard to automate / reuse code"
   ]
  },
  {
   "cell_type": "markdown",
   "metadata": {
    "slideshow": {
     "slide_type": "slide"
    }
   },
   "source": [
    "Script Style\n",
    "----\n",
    "\n",
    "For writing more complex software. For example, supports very long .py files or modular programs that are spread across multiple files.\n",
    "\n",
    "As code (and coders) matures it moves from interactive style to script style.\n",
    "\n",
    "Script style means writing Python code into a plain text file with `.py` suffix. \n",
    "\n",
    "Then run the code. For example,\n",
    "\n",
    "`$ python script.py`"
   ]
  },
  {
   "cell_type": "markdown",
   "metadata": {
    "slideshow": {
     "slide_type": "skip"
    }
   },
   "source": [
    "[Source](https://stackabuse.com/python-programming-in-interactive-vs-script-mode/)"
   ]
  },
  {
   "cell_type": "markdown",
   "metadata": {
    "slideshow": {
     "slide_type": "slide"
    }
   },
   "source": [
    "2 Types of Text Editors: CLI & GUI\n",
    "------\n",
    "\n",
    "In order to write a `.py` file, we need a plain text editor.\n",
    "\n",
    "There are two many choices:\n",
    "\n",
    "1. CLI - Non-graphical command line interface.\n",
    "2. GUI - Graphic \"apps\"."
   ]
  },
  {
   "cell_type": "markdown",
   "metadata": {
    "slideshow": {
     "slide_type": "slide"
    }
   },
   "source": [
    "There are many CLI editors. The most popular are:\n",
    "\n",
    "1. `nano` - The simplest and available everywhere. I strongly suggest learning it. It should take ~5 minutes.\n",
    "1. `vim` - More complex and fully featured. I suggest learning `vim` if you feel that would be useful. Most data scientist do __not__ need to learn. The best way to learn is https://vim-adventures.com/. It will take hours to become fluent.\n",
    "1. `emacs` - Also fully featured. It is kinda odd. Learn it if you want. But `vim` tends to be  better and is more common."
   ]
  },
  {
   "cell_type": "markdown",
   "metadata": {
    "slideshow": {
     "slide_type": "slide"
    }
   },
   "source": [
    "GUI-style Text Editors\n",
    "-----\n",
    "\n",
    "You need to use a GUI text editor.\n",
    "\n",
    "There are many, many GUI text editors.\n",
    "\n",
    "[Atom](https://atom.io/) is a popular choice.\n",
    "\n",
    "TextEdit.app works, but will not be helpful.\n",
    "\n",
    "Microsoft Word or Pages.app will __not__ work.\n",
    "\n"
   ]
  },
  {
   "cell_type": "markdown",
   "metadata": {
    "slideshow": {
     "slide_type": "slide"
    }
   },
   "source": [
    "Sublime Text 3\n",
    "-----\n",
    "\n",
    "Solid core and can be extended through community plug-ins (The same model as Python).\n",
    "\n",
    "Sublime Text 3 has many bells and whistles. I'm only to use it as plain text editor. \n",
    "\n",
    "Yes, I bought a license. As my grandfather said, \"Only buy the tools you need to do a specific task, then buy the nicest tools you can afford.\""
   ]
  },
  {
   "cell_type": "code",
   "execution_count": 1,
   "metadata": {
    "slideshow": {
     "slide_type": "skip"
    }
   },
   "outputs": [
    {
     "name": "stdout",
     "output_type": "stream",
     "text": [
      "\u001b[31mError:\u001b[0m Unknown command: cask\r\n"
     ]
    }
   ],
   "source": [
    "! brew cask install sublime-text"
   ]
  },
  {
   "cell_type": "markdown",
   "metadata": {
    "slideshow": {
     "slide_type": "slide"
    }
   },
   "source": [
    "What about IDE?\n",
    "-----\n",
    "\n",
    "Integrated development environment (IDE) are how professional coders work.\n",
    "\n",
    "There are many, many IDEs. They all have pros and cons."
   ]
  },
  {
   "cell_type": "markdown",
   "metadata": {
    "slideshow": {
     "slide_type": "fragment"
    }
   },
   "source": [
    "The most common for Python are:\n",
    "\n",
    "1. Visual Studio Code - Shockingly good for Python and Machine Learning. (Brian's top choice)\n",
    "1. PyCharm - A common IDE for working Pythonistas.\n",
    "1. Sublime Text 3 can be tricked out to be an IDE.\n",
    "1. vim can be consider an IDE."
   ]
  },
  {
   "cell_type": "markdown",
   "metadata": {
    "slideshow": {
     "slide_type": "slide"
    }
   },
   "source": [
    "Do I need to use an IDE?\n",
    "------\n",
    "\n",
    "Most data scientists just use Jupyter Notebook that is all we are going to teach. It is better to be very good with a single tool that mediocre with several tools.\n",
    "\n",
    "You might have to use an IDE for practicum or if you want a Machine Learning Engineer (MLE) or Data Engineering (DE) role.\n",
    "\n",
    "I pick up tools quickly so I just pick the tool that other team members use. I value community over features."
   ]
  },
  {
   "cell_type": "markdown",
   "metadata": {
    "slideshow": {
     "slide_type": "slide"
    }
   },
   "source": [
    " Let's make a script\n",
    " ------\n",
    " \n",
    " 1. Open Sublime Text (or any other text editor).\n",
    " 1. Write `print(\"Hello, World!\")` in a file named `hello_world.py`\n",
    " 1. Save it where you know the location. (remember choose a path with no spaces)\n",
    " 1. Open iterm.app.\n",
    " 1. Navigate to the folder where `hello_world.py` is saved.\n",
    " 1. Run `$ python hello_world.py`\n",
    " 1. \"Hello, World!\" should appear in the terminal.\n",
    " \n",
    " Raise a stickie note 🔷 if you are done."
   ]
  },
  {
   "cell_type": "markdown",
   "metadata": {
    "slideshow": {
     "slide_type": "slide"
    }
   },
   "source": [
    "Let's make a little script\n",
    "-----\n",
    "\n",
    "Print today's day of the week"
   ]
  },
  {
   "cell_type": "code",
   "execution_count": 10,
   "metadata": {
    "slideshow": {
     "slide_type": "slide"
    }
   },
   "outputs": [
    {
     "data": {
      "text/plain": [
       "'Friday'"
      ]
     },
     "execution_count": 10,
     "metadata": {},
     "output_type": "execute_result"
    }
   ],
   "source": [
    "# It is best practice to start work in REPL\n",
    "# Use documentation and fluent interface\n",
    "# https://docs.python.org/3/library/datetime.html#date-objects\n",
    "\n",
    "from datetime import date\n",
    "\n",
    "date.today().strftime('%A')"
   ]
  },
  {
   "cell_type": "markdown",
   "metadata": {
    "slideshow": {
     "slide_type": "fragment"
    }
   },
   "source": [
    "Then move working code to file"
   ]
  },
  {
   "cell_type": "code",
   "execution_count": 11,
   "metadata": {
    "slideshow": {
     "slide_type": "slide"
    }
   },
   "outputs": [
    {
     "name": "stdout",
     "output_type": "stream",
     "text": [
      "Overwriting display_todays_day_of_week.py\n"
     ]
    }
   ],
   "source": [
    "%%writefile display_todays_day_of_week.py\n",
    "\"Print today's day of the week\"\n",
    "\n",
    "from datetime import date\n",
    "\n",
    "def main():\n",
    "    day_of_week = date.today().strftime('%a')\n",
    "    print(day_of_week)\n",
    "\n",
    "if __name__ == '__main__':  # Code to execute if called from command-line. If imported, don't run\n",
    "    main()    "
   ]
  },
  {
   "cell_type": "markdown",
   "metadata": {
    "slideshow": {
     "slide_type": "fragment"
    }
   },
   "source": [
    "Now we can run it"
   ]
  },
  {
   "cell_type": "code",
   "execution_count": 12,
   "metadata": {
    "slideshow": {
     "slide_type": "slide"
    }
   },
   "outputs": [
    {
     "name": "stdout",
     "output_type": "stream",
     "text": [
      "Fri\r\n"
     ]
    }
   ],
   "source": [
    "! python display_todays_day_of_week.py"
   ]
  },
  {
   "cell_type": "markdown",
   "metadata": {
    "slideshow": {
     "slide_type": "slide"
    }
   },
   "source": [
    "[Source](https://stackoverflow.com/questions/21034373/how-to-load-edit-run-save-text-files-py-into-an-ipython-notebook-cell) "
   ]
  },
  {
   "cell_type": "markdown",
   "metadata": {
    "slideshow": {
     "slide_type": "slide"
    }
   },
   "source": [
    "What is `__name__`?\n",
    "------\n",
    "\n",
    "A conditional (or if) statement that checks the value of __name__ and compares it to the string \"__main__\". When the if statement evaluates to True, the Python interpreter executes main().  \n",
    "\n",
    "Otherwise the Python interpreter does nothing.\n",
    "\n",
    "Thus, the script will be run at the command if called by name.\n",
    "\n",
    "However if the file is imported into another script, it will not be run.\n",
    "\n",
    "This is logic used to create any module or library."
   ]
  },
  {
   "cell_type": "markdown",
   "metadata": {
    "slideshow": {
     "slide_type": "skip"
    }
   },
   "source": [
    "[Source](https://realpython.com/python-main-function/)"
   ]
  },
  {
   "cell_type": "markdown",
   "metadata": {
    "slideshow": {
     "slide_type": "slide"
    }
   },
   "source": [
    "Pros of Script Style\n",
    "-----\n",
    "\n",
    "1. Easier to run large pieces of code.\n",
    "1. Easier to run code that might take a long time.\n",
    "1. Easier to editing more complex code.\n",
    "1. Easier to share your code with other people.\n",
    "1. Starts you on the path to be a software engineer or machine learning engineer."
   ]
  },
  {
   "cell_type": "markdown",
   "metadata": {
    "slideshow": {
     "slide_type": "slide"
    }
   },
   "source": [
    "Cons of Script Style\n",
    "-----\n",
    "\n",
    "1. Always a muli-step process.\n",
    "1. Harder and slower to get feedback."
   ]
  },
  {
   "cell_type": "markdown",
   "metadata": {
    "slideshow": {
     "slide_type": "slide"
    }
   },
   "source": [
    "<center><h2>Takeaways</h2></center>\n",
    "\n",
    "- Start __all__ code at the REPL in interactive style.\n",
    "- As code becomes more complex, move to scripting style.\n",
    "- Write scripts in a plain text editor like Sublime Text 3.\n",
    "- Run scripts at the command line with \"$ python script.py\".\n",
    "- A little bit of scripting goes a long ways to make your job easier."
   ]
  },
  {
   "cell_type": "markdown",
   "metadata": {
    "slideshow": {
     "slide_type": "slide"
    }
   },
   "source": [
    " "
   ]
  },
  {
   "cell_type": "markdown",
   "metadata": {
    "slideshow": {
     "slide_type": "slide"
    }
   },
   "source": [
    "Bonus Material\n",
    "-----"
   ]
  },
  {
   "cell_type": "markdown",
   "metadata": {},
   "source": [
    "Conversion from Jupyter Notebook to `.py`\n",
    "-----\n",
    "\n",
    "Do __not__ copy and past and entire script\n",
    "\n",
    "- GUI \n",
    "\n",
    "    Menu: File -> Download as -> Python (.py)\n",
    "    \n",
    "- CLI \n",
    "    `$ nbconvert`\n",
    "\n",
    "    `$ jupyter nbconvert --to script notebook.ipynb`"
   ]
  },
  {
   "cell_type": "markdown",
   "metadata": {},
   "source": [
    "Learn more [here](https://nbconvert.readthedocs.io/en/latest/usage.html#convert-script)"
   ]
  },
  {
   "cell_type": "markdown",
   "metadata": {
    "slideshow": {
     "slide_type": "slide"
    }
   },
   "source": [
    "`nano`\n",
    "-----\n",
    "\n",
    "Nano should be learned because it relatively simple and on every system.\n",
    "\n",
    "`$ nano`"
   ]
  },
  {
   "cell_type": "markdown",
   "metadata": {
    "slideshow": {
     "slide_type": "slide"
    }
   },
   "source": [
    "Further Study\n",
    "------\n",
    "\n",
    "Add flags/arguments/parameters to your script\n",
    "\n",
    "- https://realpython.com/command-line-interfaces-python-argparse/\n",
    "\n",
    "- https://docs.python.org/3/library/argparse.html#the-add-argument-method\n"
   ]
  },
  {
   "cell_type": "markdown",
   "metadata": {
    "slideshow": {
     "slide_type": "slide"
    }
   },
   "source": [
    " "
   ]
  }
 ],
 "metadata": {
  "celltoolbar": "Slideshow",
  "kernelspec": {
   "display_name": "Python 3 (ipykernel)",
   "language": "python",
   "name": "python3"
  },
  "language_info": {
   "codemirror_mode": {
    "name": "ipython",
    "version": 3
   },
   "file_extension": ".py",
   "mimetype": "text/x-python",
   "name": "python",
   "nbconvert_exporter": "python",
   "pygments_lexer": "ipython3",
   "version": "3.8.12"
  },
  "toc": {
   "base_numbering": 1,
   "nav_menu": {},
   "number_sections": false,
   "sideBar": false,
   "skip_h1_title": false,
   "title_cell": "Table of Contents",
   "title_sidebar": "Contents",
   "toc_cell": true,
   "toc_position": {},
   "toc_section_display": true,
   "toc_window_display": false
  }
 },
 "nbformat": 4,
 "nbformat_minor": 2
}
